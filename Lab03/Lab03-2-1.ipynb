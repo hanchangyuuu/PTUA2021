{
 "cells": [
  {
   "cell_type": "markdown",
   "metadata": {},
   "source": [
    "# Lab03-2-1\n",
    "## Simulation extention 1"
   ]
  },
  {
   "cell_type": "code",
   "execution_count": 32,
   "metadata": {},
   "outputs": [
    {
     "name": "stdout",
     "output_type": "stream",
     "text": [
      "Draw limit was exceeded.The percentage difference between the current estimate of Pi and the true value is 0.005859240340778607\n",
      "Draws needed:  438\n"
     ]
    }
   ],
   "source": [
    "import random\n",
    "import math\n",
    "\n",
    "pi = math.pi # our benchmark that we want to estimate using simulation\n",
    "\n",
    "\n",
    "def extended_simulation_pi(convergence_criterion, draw_limation):\n",
    "    \"\"\"Extend the Monte Carlo simulation of the value of Pi to prompt the user for two input values.\n",
    "    \n",
    "    convergence_criterion: percentage difference for stopping the loop\n",
    "    draw_limation: A sentinel value that limits the number of draws to avoid a long running program\n",
    "    \n",
    "    return: message\n",
    "    \"\"\"\n",
    "    n = 0 # number of points falling in the unit circle\n",
    "    d = 0 # number of points falling in the unit square\n",
    "    simulating = 0 # use as a sentinel\n",
    "    dif = 0 # the percentage difference between the current estimate of Pi and the true value\n",
    "    while simulating < draw_limation:\n",
    "        x = random.random()\n",
    "        y = random.random()\n",
    "        if x**2 + y**2 <= 1.0:\n",
    "            n += 1\n",
    "        d += 1\n",
    "        ratio = 4 * n * 1./d\n",
    "        # print(ratio)\n",
    "        dif = abs(ratio-pi) / pi\n",
    "        if dif <= convergence_criterion:\n",
    "            print(\"Draws needed: \", d)\n",
    "            break\n",
    "        simulating+=1\n",
    "        \n",
    "    if simulating == draw_limation:\n",
    "        print(\"Draw limit was exceeded. The percentage difference between the current estimate of Pi and the true value is\", dif)\n",
    "\n",
    "#Test1\n",
    "extended_simulation_pi(0.0001,100)\n",
    "#Test2\n",
    "extended_simulation_pi(0.0001,5000)"
   ]
  },
  {
   "cell_type": "code",
   "execution_count": null,
   "metadata": {},
   "outputs": [],
   "source": []
  }
 ],
 "metadata": {
  "kernelspec": {
   "display_name": "Python 3",
   "language": "python",
   "name": "python3"
  },
  "language_info": {
   "codemirror_mode": {
    "name": "ipython",
    "version": 3
   },
   "file_extension": ".py",
   "mimetype": "text/x-python",
   "name": "python",
   "nbconvert_exporter": "python",
   "pygments_lexer": "ipython3",
   "version": "3.8.3"
  }
 },
 "nbformat": 4,
 "nbformat_minor": 4
}
