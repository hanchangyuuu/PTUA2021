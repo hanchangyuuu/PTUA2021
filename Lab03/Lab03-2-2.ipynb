{
 "cells": [
  {
   "cell_type": "markdown",
   "metadata": {},
   "source": [
    "# Lab03-2-2\n",
    "## Simulation extention 2"
   ]
  },
  {
   "cell_type": "code",
   "execution_count": 32,
   "metadata": {},
   "outputs": [
    {
     "name": "stdout",
     "output_type": "stream",
     "text": [
      "Convergence criterion: 0.01\n",
      "Average number of draws required: 30.2\n",
      "Standard deviation of the number of draws required: 29.28412539243745\n",
      "\n",
      "Convergence criterion: 0.001\n",
      "Average number of draws required: 300.5\n",
      "Standard deviation of the number of draws required: 562.7378163941002\n",
      "\n",
      "Convergence criterion: 0.0001\n",
      "Average number of draws required: 30567.5\n",
      "Standard deviation of the number of draws required: 89762.03355901648\n",
      "\n",
      "Convergence criterion: 1e-05\n",
      "Average number of draws required: 21005.2\n",
      "Standard deviation of the number of draws required: 29881.924786733536\n",
      "\n"
     ]
    }
   ],
   "source": [
    "import random\n",
    "import math\n",
    "from numpy import mean\n",
    "from numpy import std\n",
    "\n",
    "pi = math.pi # our benchmark that we want to estimate using simulation\n",
    "\n",
    "def extended_simulation_pi(convergence_criterion):\n",
    "    \"\"\"Extend the Monte Carlo simulation of the value of Pi to prompt the user for convergence criterion setting.\n",
    "    \n",
    "    convergence_criterion: (float) percentage difference for stopping the loop\n",
    "    \n",
    "    return: (integer) draws needed\n",
    "    \"\"\"\n",
    "    n = 0 # number of points falling in the unit circle\n",
    "    d = 0 # number of points falling in the unit square\n",
    "    dif = 0 # the percentage difference between the current estimate of Pi and the true value\n",
    "    estimates_pi = 0 # estimates of Pi\n",
    "    \n",
    "    simulating = True # use as a sentinel\n",
    "    while simulating:\n",
    "        x = random.random()\n",
    "        y = random.random()\n",
    "        if x**2 + y**2 <= 1.0:\n",
    "            n += 1\n",
    "        d += 1\n",
    "        estimates_pi = 4 * n * 1./d\n",
    "        # print(ratio)\n",
    "        if abs(estimates_pi-pi) / pi <= convergence_criterion:\n",
    "            return d;\n",
    "            break\n",
    "            \n",
    "            \n",
    "def simulation_pi_statistic(convergence_criterion):\n",
    "    \"\"\"Print average and standard deviation of the number of draws required from the 10 runs of simulation for specific convergence criterion.\n",
    "   \n",
    "    convergence_criterion: a list of float\n",
    "    \"\"\"\n",
    "    for criterion in convergence_criterion:\n",
    "        draws = [] # store number of draws required from the 10 runs\n",
    "        \n",
    "        for i in range(10):\n",
    "            draws.append(extended_simulation_pi(criterion))\n",
    "        \n",
    "        print(\"Convergence criterion:\", criterion)\n",
    "        print(\"Average number of draws required:\", mean(draws))\n",
    "        print(\"Standard deviation of the number of draws required:\", std(draws))\n",
    "        print('')\n",
    "            \n",
    "            \n",
    "        \n",
    "#test\n",
    "convergence_criteria_list = [ 0.01, 0.001, 0.0001, 0.00001] # Percentage difference for stopping the loop\n",
    "simulation_pi_statistic(convergence_criteria_list)\n"
   ]
  },
  {
   "cell_type": "code",
   "execution_count": null,
   "metadata": {},
   "outputs": [],
   "source": []
  }
 ],
 "metadata": {
  "kernelspec": {
   "display_name": "Python 3",
   "language": "python",
   "name": "python3"
  },
  "language_info": {
   "codemirror_mode": {
    "name": "ipython",
    "version": 3
   },
   "file_extension": ".py",
   "mimetype": "text/x-python",
   "name": "python",
   "nbconvert_exporter": "python",
   "pygments_lexer": "ipython3",
   "version": "3.8.3"
  }
 },
 "nbformat": 4,
 "nbformat_minor": 4
}
