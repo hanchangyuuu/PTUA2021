{
 "cells": [
  {
   "cell_type": "markdown",
   "metadata": {},
   "source": [
    "# Lab03-1\n",
    "## Exercise 2.1"
   ]
  },
  {
   "cell_type": "markdown",
   "metadata": {},
   "source": [
    "* `42 = n`  is illegal."
   ]
  },
  {
   "cell_type": "code",
   "execution_count": 20,
   "metadata": {},
   "outputs": [
    {
     "ename": "SyntaxError",
     "evalue": "cannot assign to literal (<ipython-input-20-1668fec3858a>, line 2)",
     "output_type": "error",
     "traceback": [
      "\u001b[0;36m  File \u001b[0;32m\"<ipython-input-20-1668fec3858a>\"\u001b[0;36m, line \u001b[0;32m2\u001b[0m\n\u001b[0;31m    42 = n\u001b[0m\n\u001b[0m    ^\u001b[0m\n\u001b[0;31mSyntaxError\u001b[0m\u001b[0;31m:\u001b[0m cannot assign to literal\n"
     ]
    }
   ],
   "source": [
    "42 = n "
   ]
  },
  {
   "cell_type": "markdown",
   "metadata": {},
   "source": [
    "* `x = y = 1` is legal. It means assign 1 to *x* and assign 1 to *y*."
   ]
  },
  {
   "cell_type": "code",
   "execution_count": 23,
   "metadata": {},
   "outputs": [
    {
     "name": "stdout",
     "output_type": "stream",
     "text": [
      "1 1\n"
     ]
    }
   ],
   "source": [
    "x = y = 1\n",
    "print(x,y)"
   ]
  },
  {
   "cell_type": "markdown",
   "metadata": {},
   "source": [
    "* Put or not put a semi-colon at the end of a Python statement makes no difference."
   ]
  },
  {
   "cell_type": "code",
   "execution_count": 24,
   "metadata": {},
   "outputs": [
    {
     "name": "stdout",
     "output_type": "stream",
     "text": [
      "1\n"
     ]
    }
   ],
   "source": [
    "a = 1;\n",
    "print(a)"
   ]
  },
  {
   "cell_type": "markdown",
   "metadata": {},
   "source": [
    "* If the period at the end of the sentence immediately follows an integer, the integer and the period together represent a decimal.\n",
    "* Otherwise, the period at the end of the statement is illegal.\n"
   ]
  },
  {
   "cell_type": "code",
   "execution_count": 11,
   "metadata": {},
   "outputs": [
    {
     "name": "stdout",
     "output_type": "stream",
     "text": [
      "1.0\n",
      "0.16666666666666666\n"
     ]
    }
   ],
   "source": [
    "b = 1.\n",
    "print(b)\n",
    "print(b/6)"
   ]
  },
  {
   "cell_type": "code",
   "execution_count": 8,
   "metadata": {},
   "outputs": [
    {
     "ename": "SyntaxError",
     "evalue": "invalid syntax (<ipython-input-8-915321731497>, line 1)",
     "output_type": "error",
     "traceback": [
      "\u001b[0;36m  File \u001b[0;32m\"<ipython-input-8-915321731497>\"\u001b[0;36m, line \u001b[0;32m1\u001b[0m\n\u001b[0;31m    b = 100.1.\u001b[0m\n\u001b[0m              ^\u001b[0m\n\u001b[0;31mSyntaxError\u001b[0m\u001b[0;31m:\u001b[0m invalid syntax\n"
     ]
    }
   ],
   "source": [
    "b = 100.1."
   ]
  },
  {
   "cell_type": "code",
   "execution_count": 16,
   "metadata": {},
   "outputs": [
    {
     "ename": "SyntaxError",
     "evalue": "invalid syntax (<ipython-input-16-581859f6975b>, line 1)",
     "output_type": "error",
     "traceback": [
      "\u001b[0;36m  File \u001b[0;32m\"<ipython-input-16-581859f6975b>\"\u001b[0;36m, line \u001b[0;32m1\u001b[0m\n\u001b[0;31m    c = 'sdagfag'.\u001b[0m\n\u001b[0m                  ^\u001b[0m\n\u001b[0;31mSyntaxError\u001b[0m\u001b[0;31m:\u001b[0m invalid syntax\n"
     ]
    }
   ],
   "source": [
    "c = 'sdagfag'."
   ]
  },
  {
   "cell_type": "markdown",
   "metadata": {},
   "source": [
    "* `xy` without a space will be seen as a variable.\n",
    "* `x y` with a space is an illegal statement."
   ]
  },
  {
   "cell_type": "code",
   "execution_count": 26,
   "metadata": {},
   "outputs": [
    {
     "ename": "NameError",
     "evalue": "name 'xy' is not defined",
     "output_type": "error",
     "traceback": [
      "\u001b[0;31m---------------------------------------------------------------------------\u001b[0m",
      "\u001b[0;31mNameError\u001b[0m                                 Traceback (most recent call last)",
      "\u001b[0;32m<ipython-input-26-08be3c37ed82>\u001b[0m in \u001b[0;36m<module>\u001b[0;34m\u001b[0m\n\u001b[1;32m      1\u001b[0m \u001b[0mx\u001b[0m \u001b[0;34m=\u001b[0m \u001b[0;36m1\u001b[0m\u001b[0;34m\u001b[0m\u001b[0;34m\u001b[0m\u001b[0m\n\u001b[1;32m      2\u001b[0m \u001b[0my\u001b[0m \u001b[0;34m=\u001b[0m \u001b[0;36m2\u001b[0m\u001b[0;34m\u001b[0m\u001b[0;34m\u001b[0m\u001b[0m\n\u001b[0;32m----> 3\u001b[0;31m \u001b[0mxy\u001b[0m\u001b[0;34m\u001b[0m\u001b[0;34m\u001b[0m\u001b[0m\n\u001b[0m",
      "\u001b[0;31mNameError\u001b[0m: name 'xy' is not defined"
     ]
    }
   ],
   "source": [
    "x = 1\n",
    "y = 2\n",
    "xy"
   ]
  },
  {
   "cell_type": "code",
   "execution_count": 27,
   "metadata": {},
   "outputs": [
    {
     "ename": "SyntaxError",
     "evalue": "invalid syntax (<ipython-input-27-469c70ac347d>, line 1)",
     "output_type": "error",
     "traceback": [
      "\u001b[0;36m  File \u001b[0;32m\"<ipython-input-27-469c70ac347d>\"\u001b[0;36m, line \u001b[0;32m1\u001b[0m\n\u001b[0;31m    x y\u001b[0m\n\u001b[0m      ^\u001b[0m\n\u001b[0;31mSyntaxError\u001b[0m\u001b[0;31m:\u001b[0m invalid syntax\n"
     ]
    }
   ],
   "source": [
    "x y"
   ]
  },
  {
   "cell_type": "markdown",
   "metadata": {},
   "source": [
    "## Exercise 2.2"
   ]
  },
  {
   "cell_type": "code",
   "execution_count": 41,
   "metadata": {},
   "outputs": [
    {
     "name": "stdout",
     "output_type": "stream",
     "text": [
      "The volume of a sphere with radius 5 is 523.60\n"
     ]
    }
   ],
   "source": [
    "import math\n",
    "radius = 5\n",
    "volume = 4/3*math.pi*radius**3\n",
    "print('The volume of a sphere with radius {} is {:.2f}.'.\n",
    "      format(radius, volume))"
   ]
  },
  {
   "cell_type": "code",
   "execution_count": 105,
   "metadata": {
    "scrolled": true
   },
   "outputs": [
    {
     "name": "stdout",
     "output_type": "stream",
     "text": [
      "The total wholesale cost for 60 copies is $945.45.\n"
     ]
    }
   ],
   "source": [
    "# set parameter\n",
    "cover_price = 24.95\n",
    "discount = 0.4\n",
    "first_shipping_cost = 3\n",
    "additional_shipping_cost = 0.75\n",
    "copy_number = 60\n",
    "\n",
    "# books' cost\n",
    "book_cost = cover_price * (1-discount) * copy_number\n",
    "\n",
    "# shipping cost\n",
    "shipping_cost = first_shipping_cost * 1 + additional_shipping_cost * (copy_number - 1)\n",
    "\n",
    "# whole cost\n",
    "wholesale = book_cost + shipping_cost\n",
    " \n",
    "print('The total wholesale cost for 60 copies is ${:.2f}.'.format(wholesale))"
   ]
  },
  {
   "cell_type": "code",
   "execution_count": 72,
   "metadata": {
    "scrolled": true
   },
   "outputs": [
    {
     "name": "stdout",
     "output_type": "stream",
     "text": [
      "Left time: 6:52:00\n",
      "Breakfast time: 7:30:06\n"
     ]
    }
   ],
   "source": [
    "import datetime\n",
    "left_time = datetime.timedelta(hours = 6,minutes = 52)\n",
    "easy_pace = datetime.timedelta(minutes = 8, seconds = 15)\n",
    "fast_pace = datetime.timedelta(minutes = 7, seconds = 12)\n",
    "breakfast_time = left_time + 1 * easy_pace + 3 * fast_pace + 1 * easy_pace\n",
    "print(\"Left time:\", left_time)\n",
    "print(\"Breakfast time:\", breakfast_time)"
   ]
  },
  {
   "cell_type": "markdown",
   "metadata": {},
   "source": [
    "## Exercise 8.1"
   ]
  },
  {
   "cell_type": "markdown",
   "metadata": {},
   "source": [
    "* `str.replace(old, new[, count])` replaces all occurreces of substring *old* by *new*. When *count* is given, only the first *count* occurrences will be replaced.\n",
    "* For example: replace *not* in string by *super*."
   ]
  },
  {
   "cell_type": "code",
   "execution_count": 76,
   "metadata": {},
   "outputs": [
    {
     "name": "stdout",
     "output_type": "stream",
     "text": [
      "You are not cute.\n",
      "You are super cute.\n"
     ]
    }
   ],
   "source": [
    "origin_string = 'You are not cute.'\n",
    "print(origin_string)\n",
    "replaced_string = origin_string.replace('not','super')\n",
    "print(replaced_string)"
   ]
  },
  {
   "cell_type": "markdown",
   "metadata": {},
   "source": [
    "* `str.strip([chars])` removes all leading and trailing characters which appear in *chars* . (Default *chars* is whitespace.)\n",
    "* For example: extract the home wedsite name of https://github.com/qszhao/PTUA2021/pulls?q=is%3Aopen+is%3Apr"
   ]
  },
  {
   "cell_type": "code",
   "execution_count": 78,
   "metadata": {},
   "outputs": [
    {
     "name": "stdout",
     "output_type": "stream",
     "text": [
      "Current website: https://github.com/qszhao/PTUA2021/pulls?q=is%3Aopen+is%3Apr\n",
      "Home website name: ://github.\n"
     ]
    }
   ],
   "source": [
    "current_website = \"https://github.com/qszhao/PTUA2021/pulls?q=is%3Aopen+is%3Apr\"\n",
    "print('Current website:',current_website)\n",
    "home_website_name = current_website.strip('/?=+%abcdefghijklmnopqrstuvwxyzABCDEFGHIJKLMNOPQRSTUVWXYZ1234567890')\n",
    "print('Home website name:', home_website_name)"
   ]
  },
  {
   "cell_type": "markdown",
   "metadata": {},
   "source": [
    "## Exercise 8.2"
   ]
  },
  {
   "cell_type": "markdown",
   "metadata": {},
   "source": [
    "* `str.count(sub[, start[, end]])` count the number of non-overlapping occurrences of slice [*start, end*] in string.\n",
    "* For example: counts the number of *a* in *'banana'*."
   ]
  },
  {
   "cell_type": "code",
   "execution_count": 82,
   "metadata": {},
   "outputs": [
    {
     "name": "stdout",
     "output_type": "stream",
     "text": [
      "There are 3 'a' in 'banana'\n"
     ]
    }
   ],
   "source": [
    "print('There are','banana'.count('a'),\"'a' in 'banana'\")"
   ]
  },
  {
   "cell_type": "markdown",
   "metadata": {},
   "source": [
    "## Exercise 8.3"
   ]
  },
  {
   "cell_type": "markdown",
   "metadata": {},
   "source": [
    "* The slice `[::-1]` generates a reversed string. Use this idiom to write a one-line version of function *is_palindrome* which test whether the string is a palindrome."
   ]
  },
  {
   "cell_type": "code",
   "execution_count": 83,
   "metadata": {},
   "outputs": [
    {
     "name": "stdout",
     "output_type": "stream",
     "text": [
      "asdkjgl is a palindrome: False\n",
      "KDFjkkjFDK is a palindrome: True\n"
     ]
    }
   ],
   "source": [
    "def is_palindrome(string):\n",
    "    \"\"\"Palindrome string test.\n",
    "    \n",
    "    string: a string\n",
    "    Returns: bool\n",
    "    \"\"\"\n",
    "    return string == string[::-1]\n",
    "\n",
    "test_string1 = 'asdkjgl'\n",
    "test_string2 = 'KDFjkkjFDK'\n",
    "print(test_string1, 'is a palindrome:',is_palindrome(test_string1))\n",
    "print(test_string2, 'is a palindrome:',is_palindrome(test_string2))"
   ]
  },
  {
   "cell_type": "markdown",
   "metadata": {},
   "source": [
    "## Exercise 8.4"
   ]
  },
  {
   "cell_type": "markdown",
   "metadata": {},
   "source": [
    "* Describe what the functions below actually do in notation (assuming that the parameter is a string)."
   ]
  },
  {
   "cell_type": "code",
   "execution_count": 95,
   "metadata": {},
   "outputs": [
    {
     "name": "stdout",
     "output_type": "stream",
     "text": [
      "The first letter of adgasgg  is lowercase.\n",
      "The first letter of Adgasgg  is not lowercase.\n"
     ]
    }
   ],
   "source": [
    "def any_lowercase1(s):\n",
    "    \"\"\"Whether the first letter of string is lowercase.\n",
    "    \n",
    "    s:string\n",
    "    \n",
    "    Returns: bool\n",
    "    \"\"\"\n",
    "    for c in s:\n",
    "        if c.islower():\n",
    "            return True\n",
    "        else:\n",
    "            return False\n",
    "\n",
    "#test1\n",
    "test_string1 = 'adgasgg'\n",
    "if any_lowercase1(test_string1):\n",
    "    print('The first letter of',test_string1,' is lowercase.')\n",
    "else:\n",
    "    print('The first letter of',test_string1,' is not lowercase.')\n",
    "    \n",
    "#test2\n",
    "test_string2 = 'Adgasgg'\n",
    "if any_lowercase1(test_string2):\n",
    "    print('The first letter of',test_string2,' is lowercase.')\n",
    "else:\n",
    "    print('The first letter of',test_string2,' is not lowercase.')\n"
   ]
  },
  {
   "cell_type": "code",
   "execution_count": 87,
   "metadata": {},
   "outputs": [
    {
     "name": "stdout",
     "output_type": "stream",
     "text": [
      "Is 'c' lowercase?\n",
      "True\n",
      "Is 'c' lowercase?\n",
      "True\n"
     ]
    }
   ],
   "source": [
    "def any_lowercase2(s):\n",
    "    \"\"\"whether 'c' is lowercase.\n",
    "    \n",
    "    s:string\n",
    "    \n",
    "    Returns: string\n",
    "    \"\"\"\n",
    "    for c in s:\n",
    "        if 'c'.islower():\n",
    "            return 'True'\n",
    "        else:\n",
    "            return 'False'\n",
    "\n",
    "        \n",
    "#test1\n",
    "test_string1 = 'sdgasgg'\n",
    "print(\"Is 'c' lowercase?\")\n",
    "print(any_lowercase2(test_string1))\n",
    "\n",
    "#test2\n",
    "test_string2 = 'SDGSSGG'\n",
    "print(\"Is 'c' lowercase?\")\n",
    "print(any_lowercase2(test_string2))\n",
    "    "
   ]
  },
  {
   "cell_type": "code",
   "execution_count": 91,
   "metadata": {},
   "outputs": [
    {
     "name": "stdout",
     "output_type": "stream",
     "text": [
      "The last letter of sdgasgg  is lowercase.\n",
      "The last letter of sdgasgG  is not lowercase.\n"
     ]
    }
   ],
   "source": [
    "def any_lowercase3(s):\n",
    "    \"\"\"whether the last letter of string is lowercase.\n",
    "    \n",
    "    s:string\n",
    "    \n",
    "    Returns: bool\n",
    "    \"\"\"\n",
    "    for c in s:\n",
    "        flag = c.islower()\n",
    "    return flag\n",
    "\n",
    "#test1\n",
    "test_string1 = 'sdgasgg'\n",
    "if any_lowercase3(test_string1):\n",
    "    print('The last letter of',test_string1,' is lowercase.')\n",
    "else:\n",
    "    print('The last letter of',test_string1,' is not lowercase.')\n",
    "    \n",
    "#test2\n",
    "test_string2 = 'sdgasgG'\n",
    "if any_lowercase3(test_string2):\n",
    "    print('The last letter of',test_string2,' is lowercase.')\n",
    "else:\n",
    "    print('The last letter of',test_string2,' is not lowercase.')"
   ]
  },
  {
   "cell_type": "code",
   "execution_count": 97,
   "metadata": {},
   "outputs": [
    {
     "name": "stdout",
     "output_type": "stream",
     "text": [
      "SDGSSGG  does not contain any lowercase letters.\n",
      "SDGssGG  contains lowercase letters.\n"
     ]
    }
   ],
   "source": [
    "def any_lowercase4(s):\n",
    "    \"\"\"whether a string contains any lowercase letters.\n",
    "    \n",
    "    s:string\n",
    "    \n",
    "    Returns: bool\n",
    "    \"\"\"\n",
    "    flag = False\n",
    "    for c in s:\n",
    "        flag = flag or c.islower()\n",
    "    return flag\n",
    "\n",
    "#test1\n",
    "test_string1 = 'SDGSSGG'\n",
    "if any_lowercase4(test_string1):\n",
    "    print(test_string1,' contains lowercase letters.')\n",
    "else:\n",
    "    print(test_string1,' does not contain any lowercase letters.')\n",
    "    \n",
    "#test2\n",
    "test_string2 = 'SDGssGG'\n",
    "if any_lowercase4(test_string2):\n",
    "    print(test_string2,' contains lowercase letters.')\n",
    "else:\n",
    "    print(test_string2,' does not contain any lowercase letters.')"
   ]
  },
  {
   "cell_type": "code",
   "execution_count": 98,
   "metadata": {},
   "outputs": [
    {
     "name": "stdout",
     "output_type": "stream",
     "text": [
      "Are the letters in sdgasgg  all lowercase?\n",
      "True\n",
      "Are the letters in sdgAsgg  all lowercase?\n",
      "False\n"
     ]
    }
   ],
   "source": [
    "def any_lowercase5(s):\n",
    "    \"\"\" whether the letters in a string are all lowercase.\n",
    "    \n",
    "    s:string\n",
    "    \n",
    "    Returns: bool\n",
    "    \"\"\"\n",
    "    for c in s:\n",
    "        if not c.islower():\n",
    "            return False\n",
    "    return True\n",
    "\n",
    "#test1\n",
    "test_string1 = 'sdgasgg'\n",
    "print('Are the letters in', test_string1,' all lowercase?')\n",
    "print(any_lowercase5(test_string1))\n",
    "\n",
    "#test2\n",
    "test_string2 = 'sdgAsgg'\n",
    "print('Are the letters in', test_string2,' all lowercase?')\n",
    "print(any_lowercase5(test_string2))"
   ]
  },
  {
   "cell_type": "markdown",
   "metadata": {},
   "source": [
    "## Exercise 8.5"
   ]
  },
  {
   "cell_type": "code",
   "execution_count": 104,
   "metadata": {},
   "outputs": [
    {
     "name": "stdout",
     "output_type": "stream",
     "text": [
      "\"melon\" rotated by -10 is:\n",
      "cubed\n"
     ]
    }
   ],
   "source": [
    "def rotate_letter(letter, n):\n",
    "    \"\"\"Rotate a letter by n places. Does not change other chars.\n",
    "    \n",
    "    letter:single-letter string\n",
    "    n:int\n",
    "    \n",
    "    Returns: single-letter string\n",
    "    \"\"\"\n",
    "    if letter.isupper():\n",
    "        start = ord('A')\n",
    "    elif letter.islower():\n",
    "        start = ord('a')\n",
    "    else:\n",
    "        return letter\n",
    "    return chr((ord(letter) - start + n) % 26 + start)\n",
    "\n",
    "def rotate_word(word,n):\n",
    "    \"\"\"Rotates a word by n places.\n",
    "    \n",
    "    work: string\n",
    "    n: integer\n",
    "    \n",
    "    Retures: string\n",
    "    \"\"\"\n",
    "    \n",
    "    res = ''\n",
    "    for letter in word:\n",
    "        res += rotate_letter(letter, n)\n",
    "    return res\n",
    "\n",
    "print('\"melon\" rotated by -10 is:')\n",
    "print(rotate_word('melon', -10))"
   ]
  }
 ],
 "metadata": {
  "kernelspec": {
   "display_name": "Python 3",
   "language": "python",
   "name": "python3"
  },
  "language_info": {
   "codemirror_mode": {
    "name": "ipython",
    "version": 3
   },
   "file_extension": ".py",
   "mimetype": "text/x-python",
   "name": "python",
   "nbconvert_exporter": "python",
   "pygments_lexer": "ipython3",
   "version": "3.8.3"
  }
 },
 "nbformat": 4,
 "nbformat_minor": 4
}
